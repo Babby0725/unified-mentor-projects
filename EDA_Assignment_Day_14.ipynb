{
 "cells": [
  {
   "cell_type": "markdown",
   "metadata": {
    "id": "DgE0o3YHBw-n"
   },
   "source": [
    "<center> <h1 style=\"background-color:orange; color:white\"><br>Exploratory Data Analysis<br></h1></center>"
   ]
  },
  {
   "cell_type": "markdown",
   "metadata": {
    "id": "w6lzj4kjDJWu"
   },
   "source": [
    "# `Problem Statement:`\n",
    "We have used Cars dataset from kaggle  with features including make, model, year, engine, and other properties of the car used to predict its price."
   ]
  },
  {
   "cell_type": "markdown",
   "metadata": {
    "id": "JpZPe8JBBw-y"
   },
   "source": [
    "## `Importing the necessary libraries`\n",
    "\n",
    "\n",
    "\n"
   ]
  },
  {
   "cell_type": "code",
   "execution_count": 7,
   "metadata": {
    "id": "dl9ocdwHBw-2"
   },
   "outputs": [],
   "source": [
    "import pandas as pd\n",
    "import numpy as np\n",
    "import seaborn as sns #visualisation\n",
    "import matplotlib.pyplot as plt #visualisation\n",
    "%matplotlib inline \n",
    "sns.set(color_codes=True)\n",
    "from scipy import stats\n",
    "import warnings\n",
    "warnings.filterwarnings(\"ignore\")\n"
   ]
  },
  {
   "cell_type": "markdown",
   "metadata": {
    "id": "K5JcLAN2Bw-7"
   },
   "source": [
    "## `Load the dataset into dataframe`"
   ]
  },
  {
   "cell_type": "code",
   "execution_count": 9,
   "metadata": {
    "id": "Yc-ChymZBw_A"
   },
   "outputs": [],
   "source": [
    "## load the csv file \n",
    "df = pd.read_csv(r\"C:\\Users\\chara\\OneDrive\\Desktop\\DATASCIENCE\\INTERNSHIP DS\\Assignments\\Cars_data.csv\")"
   ]
  },
  {
   "cell_type": "code",
   "execution_count": 10,
   "metadata": {
    "id": "ZUd5Fl7jBw_C",
    "outputId": "79c6280b-0909-4245-a805-9607cb59effa"
   },
   "outputs": [
    {
     "data": {
      "text/html": [
       "<div>\n",
       "<style scoped>\n",
       "    .dataframe tbody tr th:only-of-type {\n",
       "        vertical-align: middle;\n",
       "    }\n",
       "\n",
       "    .dataframe tbody tr th {\n",
       "        vertical-align: top;\n",
       "    }\n",
       "\n",
       "    .dataframe thead th {\n",
       "        text-align: right;\n",
       "    }\n",
       "</style>\n",
       "<table border=\"1\" class=\"dataframe\">\n",
       "  <thead>\n",
       "    <tr style=\"text-align: right;\">\n",
       "      <th></th>\n",
       "      <th>Make</th>\n",
       "      <th>Model</th>\n",
       "      <th>Year</th>\n",
       "      <th>Engine Fuel Type</th>\n",
       "      <th>Engine HP</th>\n",
       "      <th>Engine Cylinders</th>\n",
       "      <th>Transmission Type</th>\n",
       "      <th>Driven_Wheels</th>\n",
       "      <th>Number of Doors</th>\n",
       "      <th>Market Category</th>\n",
       "      <th>Vehicle Size</th>\n",
       "      <th>Vehicle Style</th>\n",
       "      <th>highway MPG</th>\n",
       "      <th>city mpg</th>\n",
       "      <th>Popularity</th>\n",
       "      <th>MSRP</th>\n",
       "    </tr>\n",
       "  </thead>\n",
       "  <tbody>\n",
       "    <tr>\n",
       "      <th>0</th>\n",
       "      <td>BMW</td>\n",
       "      <td>1 Series M</td>\n",
       "      <td>2011</td>\n",
       "      <td>premium unleaded (required)</td>\n",
       "      <td>335.0</td>\n",
       "      <td>6.0</td>\n",
       "      <td>MANUAL</td>\n",
       "      <td>rear wheel drive</td>\n",
       "      <td>2.0</td>\n",
       "      <td>Factory Tuner,Luxury,High-Performance</td>\n",
       "      <td>Compact</td>\n",
       "      <td>Coupe</td>\n",
       "      <td>26</td>\n",
       "      <td>19</td>\n",
       "      <td>3916</td>\n",
       "      <td>46135</td>\n",
       "    </tr>\n",
       "    <tr>\n",
       "      <th>1</th>\n",
       "      <td>BMW</td>\n",
       "      <td>1 Series</td>\n",
       "      <td>2011</td>\n",
       "      <td>premium unleaded (required)</td>\n",
       "      <td>300.0</td>\n",
       "      <td>6.0</td>\n",
       "      <td>MANUAL</td>\n",
       "      <td>rear wheel drive</td>\n",
       "      <td>2.0</td>\n",
       "      <td>Luxury,Performance</td>\n",
       "      <td>Compact</td>\n",
       "      <td>Convertible</td>\n",
       "      <td>28</td>\n",
       "      <td>19</td>\n",
       "      <td>3916</td>\n",
       "      <td>40650</td>\n",
       "    </tr>\n",
       "    <tr>\n",
       "      <th>2</th>\n",
       "      <td>BMW</td>\n",
       "      <td>1 Series</td>\n",
       "      <td>2011</td>\n",
       "      <td>premium unleaded (required)</td>\n",
       "      <td>300.0</td>\n",
       "      <td>6.0</td>\n",
       "      <td>MANUAL</td>\n",
       "      <td>rear wheel drive</td>\n",
       "      <td>2.0</td>\n",
       "      <td>Luxury,High-Performance</td>\n",
       "      <td>Compact</td>\n",
       "      <td>Coupe</td>\n",
       "      <td>28</td>\n",
       "      <td>20</td>\n",
       "      <td>3916</td>\n",
       "      <td>36350</td>\n",
       "    </tr>\n",
       "    <tr>\n",
       "      <th>3</th>\n",
       "      <td>BMW</td>\n",
       "      <td>1 Series</td>\n",
       "      <td>2011</td>\n",
       "      <td>premium unleaded (required)</td>\n",
       "      <td>230.0</td>\n",
       "      <td>6.0</td>\n",
       "      <td>MANUAL</td>\n",
       "      <td>rear wheel drive</td>\n",
       "      <td>2.0</td>\n",
       "      <td>Luxury,Performance</td>\n",
       "      <td>Compact</td>\n",
       "      <td>Coupe</td>\n",
       "      <td>28</td>\n",
       "      <td>18</td>\n",
       "      <td>3916</td>\n",
       "      <td>29450</td>\n",
       "    </tr>\n",
       "    <tr>\n",
       "      <th>4</th>\n",
       "      <td>BMW</td>\n",
       "      <td>1 Series</td>\n",
       "      <td>2011</td>\n",
       "      <td>premium unleaded (required)</td>\n",
       "      <td>230.0</td>\n",
       "      <td>6.0</td>\n",
       "      <td>MANUAL</td>\n",
       "      <td>rear wheel drive</td>\n",
       "      <td>2.0</td>\n",
       "      <td>Luxury</td>\n",
       "      <td>Compact</td>\n",
       "      <td>Convertible</td>\n",
       "      <td>28</td>\n",
       "      <td>18</td>\n",
       "      <td>3916</td>\n",
       "      <td>34500</td>\n",
       "    </tr>\n",
       "  </tbody>\n",
       "</table>\n",
       "</div>"
      ],
      "text/plain": [
       "  Make       Model  Year             Engine Fuel Type  Engine HP  \\\n",
       "0  BMW  1 Series M  2011  premium unleaded (required)      335.0   \n",
       "1  BMW    1 Series  2011  premium unleaded (required)      300.0   \n",
       "2  BMW    1 Series  2011  premium unleaded (required)      300.0   \n",
       "3  BMW    1 Series  2011  premium unleaded (required)      230.0   \n",
       "4  BMW    1 Series  2011  premium unleaded (required)      230.0   \n",
       "\n",
       "   Engine Cylinders Transmission Type     Driven_Wheels  Number of Doors  \\\n",
       "0               6.0            MANUAL  rear wheel drive              2.0   \n",
       "1               6.0            MANUAL  rear wheel drive              2.0   \n",
       "2               6.0            MANUAL  rear wheel drive              2.0   \n",
       "3               6.0            MANUAL  rear wheel drive              2.0   \n",
       "4               6.0            MANUAL  rear wheel drive              2.0   \n",
       "\n",
       "                         Market Category Vehicle Size Vehicle Style  \\\n",
       "0  Factory Tuner,Luxury,High-Performance      Compact         Coupe   \n",
       "1                     Luxury,Performance      Compact   Convertible   \n",
       "2                Luxury,High-Performance      Compact         Coupe   \n",
       "3                     Luxury,Performance      Compact         Coupe   \n",
       "4                                 Luxury      Compact   Convertible   \n",
       "\n",
       "   highway MPG  city mpg  Popularity   MSRP  \n",
       "0           26        19        3916  46135  \n",
       "1           28        19        3916  40650  \n",
       "2           28        20        3916  36350  \n",
       "3           28        18        3916  29450  \n",
       "4           28        18        3916  34500  "
      ]
     },
     "execution_count": 10,
     "metadata": {},
     "output_type": "execute_result"
    }
   ],
   "source": [
    "## print the head of the dataframe\n",
    "df.head()\n"
   ]
  },
  {
   "cell_type": "markdown",
   "metadata": {
    "id": "Gi3_9poxrSjE"
   },
   "source": [
    "Now we observe the each features present in the dataset.<br>\n",
    "\n",
    " `Make:` The Make feature is the company name of the Car.<br>\n",
    "`Model:` The Model feature is the model or different version of Car models.<br>\n",
    "`Year:`  The year describes the model has been launched.<br>\n",
    "`Engine Fuel Type:` It defines the Fuel type of the car model.<br>\n",
    "`Engine HP:` It's say the Horsepower that refers to the power an engine produces.<br>\n",
    "`Engine Cylinders:` It define the nos of cylinders in present in the engine.<br>\n",
    "`Transmission Type:` It is the type of feature that describe about the car transmission type i.e Mannual or automatic.<br>\n",
    "`Driven_Wheels:` The type of wheel drive.<br>\n",
    "`No of doors:` It defined nos of doors present in the car.<br>\n",
    "`Market Category:` This features tells about the type of car or which category the car belongs. <br>\n",
    "`Vehicle Size:` It's say about the about car size.<br>\n",
    "`Vehicle Style:` The feature is all about the style that belongs to car.<br>\n",
    "`highway MPG:` The average a car will get while driving on an open stretch of road without stopping or starting, typically at a higher speed.<br>\n",
    "`city mpg:` City MPG refers to driving with occasional stopping and braking.<br>\n",
    "`Popularity:` It can refered to rating of that car or popularity of car.<br>\n",
    "`MSRP:` The price of that car.\n",
    "\n",
    "\n",
    "\n",
    "\n",
    "\n"
   ]
  },
  {
   "cell_type": "markdown",
   "metadata": {
    "id": "VQ9qn4PaBw_i"
   },
   "source": [
    "## `Check the datatypes`"
   ]
  },
  {
   "cell_type": "code",
   "execution_count": 11,
   "metadata": {
    "id": "OPozGraJBw_l",
    "outputId": "b72042d2-5913-43d8-c78a-2101feea6294"
   },
   "outputs": [
    {
     "data": {
      "text/plain": [
       "Make                  object\n",
       "Model                 object\n",
       "Year                   int64\n",
       "Engine Fuel Type      object\n",
       "Engine HP            float64\n",
       "Engine Cylinders     float64\n",
       "Transmission Type     object\n",
       "Driven_Wheels         object\n",
       "Number of Doors      float64\n",
       "Market Category       object\n",
       "Vehicle Size          object\n",
       "Vehicle Style         object\n",
       "highway MPG            int64\n",
       "city mpg               int64\n",
       "Popularity             int64\n",
       "MSRP                   int64\n",
       "dtype: object"
      ]
     },
     "execution_count": 11,
     "metadata": {},
     "output_type": "execute_result"
    }
   ],
   "source": [
    "# Get the datatypes of each columns number of records in each column.\n",
    "df.dtypes\n"
   ]
  },
  {
   "cell_type": "markdown",
   "metadata": {
    "id": "gFyzAJLIBw_n"
   },
   "source": [
    "## `Dropping irrevalent columns`"
   ]
  },
  {
   "cell_type": "markdown",
   "metadata": {
    "id": "ZZ863Z4jBw_p"
   },
   "source": [
    "If we consider all columns present in the dataset then unneccessary columns will impact on the model's accuracy.<br>\n",
    "Not all the columns are important to us in the given dataframe, and hence we would drop the columns that are irrevalent to us. It would reflect our model's accucary so we need to drop them. Otherwise it will affect our model.\n",
    "\n",
    "\n",
    "The list cols_to_drop contains the names of the cols that are irrevalent, drop all these cols from the dataframe.\n",
    "\n",
    "\n",
    "`cols_to_drop = [\"Engine Fuel Type\", \"Market Category\", \"Vehicle Style\", \"Popularity\", \"Number of Doors\", \"Vehicle Size\"]`\n",
    "\n",
    "These features are not neccessary to obtain the model's accucary. It does not contain any relevant information in the dataset. "
   ]
  },
  {
   "cell_type": "code",
   "execution_count": 13,
   "metadata": {
    "id": "oW5t3xE-Bw_p"
   },
   "outputs": [],
   "source": [
    "# initialise cols_to_drop\n",
    "cols_to_drop = []\n",
    "cols_to_drop.append('Column1')\n",
    "cols_to_drop.append('Column2')\n"
   ]
  },
  {
   "cell_type": "code",
   "execution_count": 17,
   "metadata": {
    "id": "RJvrJS9-Bw_r",
    "outputId": "69709257-f66a-41b3-f3e8-0cced7dbb28b"
   },
   "outputs": [
    {
     "name": "stdout",
     "output_type": "stream",
     "text": [
      "  Make       Model  Year  Engine HP  Engine Cylinders Transmission Type  \\\n",
      "0  BMW  1 Series M  2011      335.0               6.0            MANUAL   \n",
      "1  BMW    1 Series  2011      300.0               6.0            MANUAL   \n",
      "2  BMW    1 Series  2011      300.0               6.0            MANUAL   \n",
      "3  BMW    1 Series  2011      230.0               6.0            MANUAL   \n",
      "4  BMW    1 Series  2011      230.0               6.0            MANUAL   \n",
      "\n",
      "      Driven_Wheels Vehicle Size Vehicle Style  highway MPG  city mpg  \\\n",
      "0  rear wheel drive      Compact         Coupe           26        19   \n",
      "1  rear wheel drive      Compact   Convertible           28        19   \n",
      "2  rear wheel drive      Compact         Coupe           28        20   \n",
      "3  rear wheel drive      Compact         Coupe           28        18   \n",
      "4  rear wheel drive      Compact   Convertible           28        18   \n",
      "\n",
      "   Popularity   MSRP  \n",
      "0        3916  46135  \n",
      "1        3916  40650  \n",
      "2        3916  36350  \n",
      "3        3916  29450  \n",
      "4        3916  34500  \n"
     ]
    }
   ],
   "source": [
    "# drop the irrevalent cols and print the head of the dataframe\n",
    "# df = \n",
    "# print df head\n",
    "cols_to_drop = ['Engine Fuel Type', 'Number of Doors', 'Market Category']\n",
    "df = df.drop(columns=cols_to_drop)\n",
    "print(df.head())\n",
    "\n"
   ]
  },
  {
   "cell_type": "markdown",
   "metadata": {
    "id": "Jg4y0BS7Bw_s"
   },
   "source": [
    "## `Renaming the columns`"
   ]
  },
  {
   "cell_type": "markdown",
   "metadata": {
    "id": "aDciVmlRBw_t"
   },
   "source": [
    "Now, Its time for renaming the feature to useful feature name. It will help to use them in model training purpose.<br>\n",
    "\n",
    "We have already dropped the unneccesary columns, and now we are left with useful columns. One extra thing that we would do is to rename the columns such that the name clearly represents the essence of the column.\n",
    "\n",
    "The given dict represents (in key value pair) the previous name, and the new name for the dataframe columns"
   ]
  },
  {
   "cell_type": "code",
   "execution_count": 18,
   "metadata": {
    "id": "LPr2b3NPBw_u"
   },
   "outputs": [
    {
     "name": "stdout",
     "output_type": "stream",
     "text": [
      "  Make       Model  Year     HP  Cylinders Transmission Type  \\\n",
      "0  BMW  1 Series M  2011  335.0        6.0            MANUAL   \n",
      "1  BMW    1 Series  2011  300.0        6.0            MANUAL   \n",
      "2  BMW    1 Series  2011  300.0        6.0            MANUAL   \n",
      "3  BMW    1 Series  2011  230.0        6.0            MANUAL   \n",
      "4  BMW    1 Series  2011  230.0        6.0            MANUAL   \n",
      "\n",
      "      Driven_Wheels Vehicle Size Vehicle Style  highway MPG  city mpg  \\\n",
      "0  rear wheel drive      Compact         Coupe           26        19   \n",
      "1  rear wheel drive      Compact   Convertible           28        19   \n",
      "2  rear wheel drive      Compact         Coupe           28        20   \n",
      "3  rear wheel drive      Compact         Coupe           28        18   \n",
      "4  rear wheel drive      Compact   Convertible           28        18   \n",
      "\n",
      "   Popularity   MSRP  \n",
      "0        3916  46135  \n",
      "1        3916  40650  \n",
      "2        3916  36350  \n",
      "3        3916  29450  \n",
      "4        3916  34500  \n"
     ]
    }
   ],
   "source": [
    "# rename cols \n",
    "# rename_cols = \n",
    "rename_cols = {\n",
    "    'Engine HP': 'HP',\n",
    "    'Engine Cylinders': 'Cylinders',\n",
    "   \n",
    "}\n",
    "\n",
    "df = df.rename(columns=rename_cols)\n",
    "print(df.head())\n"
   ]
  },
  {
   "cell_type": "code",
   "execution_count": 20,
   "metadata": {
    "id": "YpY0qGvIBw_v"
   },
   "outputs": [],
   "source": [
    "# use a pandas function to rename the current columns - \n",
    "# df = \n",
    "new_column_names = {\n",
    "    'Make': 'Brand',\n",
    "    'Model': 'Car_Model',\n",
    "    'Year': 'Production_Year',\n",
    "    'Engine HP': 'Horsepower',\n",
    "    'Engine Cylinders': 'Cylinder_Count',\n",
    "    'Transmission Type': 'Transmission',\n",
    "    'Driven_Wheels': 'Drive_Type',\n",
    "    'highway MPG': 'Highway_MPG',\n",
    "    'city mpg': 'City_MPG',\n",
    "    'Popularity': 'Car_Popularity',\n",
    "    'MSRP': 'Price'\n",
    "}\n",
    "df = df.rename(columns=new_column_names)"
   ]
  },
  {
   "cell_type": "code",
   "execution_count": 21,
   "metadata": {
    "id": "3N1i99nYBw_v",
    "outputId": "d4c5d762-55ef-4566-c6d3-374cc8f9160e"
   },
   "outputs": [
    {
     "name": "stdout",
     "output_type": "stream",
     "text": [
      "  Brand   Car_Model  Production_Year     HP  Cylinders Transmission  \\\n",
      "0   BMW  1 Series M             2011  335.0        6.0       MANUAL   \n",
      "1   BMW    1 Series             2011  300.0        6.0       MANUAL   \n",
      "2   BMW    1 Series             2011  300.0        6.0       MANUAL   \n",
      "3   BMW    1 Series             2011  230.0        6.0       MANUAL   \n",
      "4   BMW    1 Series             2011  230.0        6.0       MANUAL   \n",
      "\n",
      "         Drive_Type Vehicle Size Vehicle Style  Highway_MPG  City_MPG  \\\n",
      "0  rear wheel drive      Compact         Coupe           26        19   \n",
      "1  rear wheel drive      Compact   Convertible           28        19   \n",
      "2  rear wheel drive      Compact         Coupe           28        20   \n",
      "3  rear wheel drive      Compact         Coupe           28        18   \n",
      "4  rear wheel drive      Compact   Convertible           28        18   \n",
      "\n",
      "   Car_Popularity  Price  \n",
      "0            3916  46135  \n",
      "1            3916  40650  \n",
      "2            3916  36350  \n",
      "3            3916  29450  \n",
      "4            3916  34500  \n"
     ]
    }
   ],
   "source": [
    "# Print the head of the dataframe\n",
    "print(df.head())"
   ]
  },
  {
   "cell_type": "markdown",
   "metadata": {
    "id": "UgNExPnZBw_w"
   },
   "source": [
    "## `Dropping the duplicate rows`"
   ]
  },
  {
   "cell_type": "markdown",
   "metadata": {
    "id": "ozWzkdrSBw_x"
   },
   "source": [
    "There are many rows in the dataframe which are duplicate, and hence they are just repeating the information. Its better if we remove these rows as they don't add any value to the dataframe. \n",
    "\n",
    "For given data, we would like to see how many rows were duplicates. For this, we will count the number of rows, remove the dublicated rows, and again count the number of rows."
   ]
  },
  {
   "cell_type": "code",
   "execution_count": 22,
   "metadata": {
    "id": "drvQvYs2Bw_x",
    "outputId": "a7e6f707-fab9-47f8-86c4-9cbd9f1b110f"
   },
   "outputs": [
    {
     "name": "stdout",
     "output_type": "stream",
     "text": [
      "Number of rows before removing duplicates: 11914\n"
     ]
    }
   ],
   "source": [
    "# number of rows before removing duplicated rows\n",
    "num_rows_before = df.shape[0]\n",
    "print(\"Number of rows before removing duplicates:\", num_rows_before)\n"
   ]
  },
  {
   "cell_type": "code",
   "execution_count": 23,
   "metadata": {
    "id": "LvwZZUruBw_x",
    "outputId": "617daeb0-f1e8-46dd-9623-34dd5b4d3bdf"
   },
   "outputs": [
    {
     "name": "stdout",
     "output_type": "stream",
     "text": [
      "  Brand   Car_Model  Production_Year     HP  Cylinders Transmission  \\\n",
      "0   BMW  1 Series M             2011  335.0        6.0       MANUAL   \n",
      "1   BMW    1 Series             2011  300.0        6.0       MANUAL   \n",
      "2   BMW    1 Series             2011  300.0        6.0       MANUAL   \n",
      "3   BMW    1 Series             2011  230.0        6.0       MANUAL   \n",
      "4   BMW    1 Series             2011  230.0        6.0       MANUAL   \n",
      "\n",
      "         Drive_Type Vehicle Size Vehicle Style  Highway_MPG  City_MPG  \\\n",
      "0  rear wheel drive      Compact         Coupe           26        19   \n",
      "1  rear wheel drive      Compact   Convertible           28        19   \n",
      "2  rear wheel drive      Compact         Coupe           28        20   \n",
      "3  rear wheel drive      Compact         Coupe           28        18   \n",
      "4  rear wheel drive      Compact   Convertible           28        18   \n",
      "\n",
      "   Car_Popularity  Price  \n",
      "0            3916  46135  \n",
      "1            3916  40650  \n",
      "2            3916  36350  \n",
      "3            3916  29450  \n",
      "4            3916  34500  \n"
     ]
    }
   ],
   "source": [
    "# drop the duplicated rows\n",
    "# df = \n",
    "\n",
    "# print head of df\n",
    "df = df.drop_duplicates()\n",
    "print(df.head())\n",
    "\n"
   ]
  },
  {
   "cell_type": "code",
   "execution_count": 24,
   "metadata": {
    "id": "Gg4hjGakBw_y",
    "outputId": "a0f3f48c-7f23-4f2b-911b-57529b32663b"
   },
   "outputs": [
    {
     "name": "stdout",
     "output_type": "stream",
     "text": [
      "Number of rows after removing duplicates: 11122\n"
     ]
    }
   ],
   "source": [
    "# Count Number of rows after deleting duplicated rows\n",
    "num_rows_after = df.shape[0]\n",
    "print(\"Number of rows after removing duplicates:\", num_rows_after)"
   ]
  },
  {
   "cell_type": "markdown",
   "metadata": {
    "id": "Q06o1NwrBw_z"
   },
   "source": [
    "## `Dropping the null or missing values`"
   ]
  },
  {
   "cell_type": "markdown",
   "metadata": {
    "id": "ddf1mIspBw_z"
   },
   "source": [
    "Missing values are usually represented in the form of Nan or null or None in the dataset.\n",
    "\n",
    "Finding whether we have null values in the data is by using the isnull() function.\n",
    "\n",
    "There are many values which are missing, in pandas dataframe these values are reffered to as np.nan. We want to deal with these values beause we can't use nan values to train models. Either we can remove them to apply some strategy to replace them with other values.\n",
    "\n",
    "To keep things simple we will be dropping nan values"
   ]
  },
  {
   "cell_type": "code",
   "execution_count": 25,
   "metadata": {
    "id": "s0MtVaYABw_z",
    "outputId": "61fbc5cc-d21a-453c-8bf5-8ba42a7f553e"
   },
   "outputs": [
    {
     "name": "stdout",
     "output_type": "stream",
     "text": [
      "NaN counts in each column:\n",
      "Brand               0\n",
      "Car_Model           0\n",
      "Production_Year     0\n",
      "HP                 69\n",
      "Cylinders          30\n",
      "Transmission        0\n",
      "Drive_Type          0\n",
      "Vehicle Size        0\n",
      "Vehicle Style       0\n",
      "Highway_MPG         0\n",
      "City_MPG            0\n",
      "Car_Popularity      0\n",
      "Price               0\n",
      "dtype: int64\n"
     ]
    }
   ],
   "source": [
    "# check for nan values in each columns\n",
    "nan_counts = df.isna().sum()\n",
    "print(\"NaN counts in each column:\")\n",
    "print(nan_counts)\n"
   ]
  },
  {
   "cell_type": "markdown",
   "metadata": {
    "id": "58N8lvWRlIVT"
   },
   "source": [
    "As we can see that the HP and Cylinders have null values of 69 and 30. As these null values will impact on models' accuracy. So to avoid the impact we will drop the these values. As these values are small camparing with dataset  that will not impact any major affect on model accuracy so we will drop the values."
   ]
  },
  {
   "cell_type": "code",
   "execution_count": 26,
   "metadata": {
    "id": "TObFlN7xBw_0"
   },
   "outputs": [
    {
     "name": "stdout",
     "output_type": "stream",
     "text": [
      "  Brand   Car_Model  Production_Year     HP  Cylinders Transmission  \\\n",
      "0   BMW  1 Series M             2011  335.0        6.0       MANUAL   \n",
      "1   BMW    1 Series             2011  300.0        6.0       MANUAL   \n",
      "2   BMW    1 Series             2011  300.0        6.0       MANUAL   \n",
      "3   BMW    1 Series             2011  230.0        6.0       MANUAL   \n",
      "4   BMW    1 Series             2011  230.0        6.0       MANUAL   \n",
      "\n",
      "         Drive_Type Vehicle Size Vehicle Style  Highway_MPG  City_MPG  \\\n",
      "0  rear wheel drive      Compact         Coupe           26        19   \n",
      "1  rear wheel drive      Compact   Convertible           28        19   \n",
      "2  rear wheel drive      Compact         Coupe           28        20   \n",
      "3  rear wheel drive      Compact         Coupe           28        18   \n",
      "4  rear wheel drive      Compact   Convertible           28        18   \n",
      "\n",
      "   Car_Popularity  Price  \n",
      "0            3916  46135  \n",
      "1            3916  40650  \n",
      "2            3916  36350  \n",
      "3            3916  29450  \n",
      "4            3916  34500  \n"
     ]
    }
   ],
   "source": [
    "# drop missing values\n",
    "# df = \n",
    "df = df.dropna()\n",
    "print(df.head())\n"
   ]
  },
  {
   "cell_type": "code",
   "execution_count": 27,
   "metadata": {
    "id": "q3tsOjvcBw_0",
    "outputId": "067469f3-04d9-4894-f1e2-7ee4132a1d79"
   },
   "outputs": [
    {
     "name": "stdout",
     "output_type": "stream",
     "text": [
      "NaN counts in each column after removing missing values:\n",
      "Brand              0\n",
      "Car_Model          0\n",
      "Production_Year    0\n",
      "HP                 0\n",
      "Cylinders          0\n",
      "Transmission       0\n",
      "Drive_Type         0\n",
      "Vehicle Size       0\n",
      "Vehicle Style      0\n",
      "Highway_MPG        0\n",
      "City_MPG           0\n",
      "Car_Popularity     0\n",
      "Price              0\n",
      "dtype: int64\n"
     ]
    }
   ],
   "source": [
    "# Make sure that missing values are removed\n",
    "# check number of nan values in each col again\n",
    "nan_counts_after = df.isna().sum()\n",
    "print(\"NaN counts in each column after removing missing values:\")\n",
    "print(nan_counts_after)\n",
    "\n"
   ]
  },
  {
   "cell_type": "code",
   "execution_count": 28,
   "metadata": {
    "id": "N0Ge8_yfBw_1",
    "outputId": "88459604-4bba-434c-d5fb-6e81910b4b50"
   },
   "outputs": [
    {
     "data": {
      "text/html": [
       "<div>\n",
       "<style scoped>\n",
       "    .dataframe tbody tr th:only-of-type {\n",
       "        vertical-align: middle;\n",
       "    }\n",
       "\n",
       "    .dataframe tbody tr th {\n",
       "        vertical-align: top;\n",
       "    }\n",
       "\n",
       "    .dataframe thead th {\n",
       "        text-align: right;\n",
       "    }\n",
       "</style>\n",
       "<table border=\"1\" class=\"dataframe\">\n",
       "  <thead>\n",
       "    <tr style=\"text-align: right;\">\n",
       "      <th></th>\n",
       "      <th>Production_Year</th>\n",
       "      <th>HP</th>\n",
       "      <th>Cylinders</th>\n",
       "      <th>Highway_MPG</th>\n",
       "      <th>City_MPG</th>\n",
       "      <th>Car_Popularity</th>\n",
       "      <th>Price</th>\n",
       "    </tr>\n",
       "  </thead>\n",
       "  <tbody>\n",
       "    <tr>\n",
       "      <th>count</th>\n",
       "      <td>11024.000000</td>\n",
       "      <td>11024.000000</td>\n",
       "      <td>11024.000000</td>\n",
       "      <td>11024.000000</td>\n",
       "      <td>11024.000000</td>\n",
       "      <td>11024.000000</td>\n",
       "      <td>1.102400e+04</td>\n",
       "    </tr>\n",
       "    <tr>\n",
       "      <th>mean</th>\n",
       "      <td>2010.660377</td>\n",
       "      <td>252.656477</td>\n",
       "      <td>5.674438</td>\n",
       "      <td>26.326560</td>\n",
       "      <td>19.338534</td>\n",
       "      <td>1555.335450</td>\n",
       "      <td>4.187311e+04</td>\n",
       "    </tr>\n",
       "    <tr>\n",
       "      <th>std</th>\n",
       "      <td>7.251201</td>\n",
       "      <td>109.992446</td>\n",
       "      <td>1.763546</td>\n",
       "      <td>7.473018</td>\n",
       "      <td>6.608206</td>\n",
       "      <td>1447.125425</td>\n",
       "      <td>6.193599e+04</td>\n",
       "    </tr>\n",
       "    <tr>\n",
       "      <th>min</th>\n",
       "      <td>1990.000000</td>\n",
       "      <td>55.000000</td>\n",
       "      <td>0.000000</td>\n",
       "      <td>12.000000</td>\n",
       "      <td>7.000000</td>\n",
       "      <td>2.000000</td>\n",
       "      <td>2.000000e+03</td>\n",
       "    </tr>\n",
       "    <tr>\n",
       "      <th>25%</th>\n",
       "      <td>2007.000000</td>\n",
       "      <td>171.000000</td>\n",
       "      <td>4.000000</td>\n",
       "      <td>22.000000</td>\n",
       "      <td>16.000000</td>\n",
       "      <td>549.000000</td>\n",
       "      <td>2.148625e+04</td>\n",
       "    </tr>\n",
       "    <tr>\n",
       "      <th>50%</th>\n",
       "      <td>2015.000000</td>\n",
       "      <td>237.000000</td>\n",
       "      <td>6.000000</td>\n",
       "      <td>25.000000</td>\n",
       "      <td>18.000000</td>\n",
       "      <td>1385.000000</td>\n",
       "      <td>3.049500e+04</td>\n",
       "    </tr>\n",
       "    <tr>\n",
       "      <th>75%</th>\n",
       "      <td>2016.000000</td>\n",
       "      <td>302.000000</td>\n",
       "      <td>6.000000</td>\n",
       "      <td>30.000000</td>\n",
       "      <td>22.000000</td>\n",
       "      <td>2009.000000</td>\n",
       "      <td>4.291250e+04</td>\n",
       "    </tr>\n",
       "    <tr>\n",
       "      <th>max</th>\n",
       "      <td>2017.000000</td>\n",
       "      <td>1001.000000</td>\n",
       "      <td>16.000000</td>\n",
       "      <td>354.000000</td>\n",
       "      <td>137.000000</td>\n",
       "      <td>5657.000000</td>\n",
       "      <td>2.065902e+06</td>\n",
       "    </tr>\n",
       "  </tbody>\n",
       "</table>\n",
       "</div>"
      ],
      "text/plain": [
       "       Production_Year            HP     Cylinders   Highway_MPG  \\\n",
       "count     11024.000000  11024.000000  11024.000000  11024.000000   \n",
       "mean       2010.660377    252.656477      5.674438     26.326560   \n",
       "std           7.251201    109.992446      1.763546      7.473018   \n",
       "min        1990.000000     55.000000      0.000000     12.000000   \n",
       "25%        2007.000000    171.000000      4.000000     22.000000   \n",
       "50%        2015.000000    237.000000      6.000000     25.000000   \n",
       "75%        2016.000000    302.000000      6.000000     30.000000   \n",
       "max        2017.000000   1001.000000     16.000000    354.000000   \n",
       "\n",
       "           City_MPG  Car_Popularity         Price  \n",
       "count  11024.000000    11024.000000  1.102400e+04  \n",
       "mean      19.338534     1555.335450  4.187311e+04  \n",
       "std        6.608206     1447.125425  6.193599e+04  \n",
       "min        7.000000        2.000000  2.000000e+03  \n",
       "25%       16.000000      549.000000  2.148625e+04  \n",
       "50%       18.000000     1385.000000  3.049500e+04  \n",
       "75%       22.000000     2009.000000  4.291250e+04  \n",
       "max      137.000000     5657.000000  2.065902e+06  "
      ]
     },
     "execution_count": 28,
     "metadata": {},
     "output_type": "execute_result"
    }
   ],
   "source": [
    "#Describe statistics of df\n",
    "df_description = df.describe()\n",
    "df_description\n",
    "\n"
   ]
  },
  {
   "cell_type": "markdown",
   "metadata": {
    "id": "qBk8SZ29Bw_1"
   },
   "source": [
    "## `Removing outliers`"
   ]
  },
  {
   "cell_type": "markdown",
   "metadata": {
    "id": "tn5lLccGBw_2"
   },
   "source": [
    "Sometimes a dataset can contain extreme values that are outside the range of what is expected and unlike the other data. These are called outliers and often machine learning modeling and model skill in general can be improved by understanding and even removing these outlier values."
   ]
  },
  {
   "cell_type": "code",
   "execution_count": 29,
   "metadata": {
    "id": "2QnFqFbyBw_3",
    "outputId": "b0a85d54-e5d7-4943-aec5-854695406cac"
   },
   "outputs": [
    {
     "data": {
      "image/png": "[encoded data removed]",
      "text/plain": [
       "<Figure size 800x600 with 1 Axes>"
      ]
     },
     "metadata": {},
     "output_type": "display_data"
    }
   ],
   "source": [
    "## Plot a boxplot for 'Price' column in dataset. \n",
    "plt.figure(figsize=(8, 6))\n",
    "plt.boxplot(df['Price'])\n",
    "plt.title('Boxplot of Price')\n",
    "plt.ylabel('Price')\n",
    "plt.show()\n"
   ]
  },
  {
   "cell_type": "markdown",
   "metadata": {
    "id": "qCpI41VqBci9"
   },
   "source": [
    "### **`Observation:`**<br>\n",
    "\n",
    "Here as you see that we got some values near to 1.5 and 2.0 . So these values are called outliers. Because there are away from the normal values.\n",
    "Now we have detect the outliers of the feature of Price. Similarly we will checking of anothers features."
   ]
  },
  {
   "cell_type": "code",
   "execution_count": 30,
   "metadata": {
    "id": "lvDBhe4jBw_3",
    "outputId": "6acf12e7-757f-4cbc-9020-d1d6a6e40564"
   },
   "outputs": [
    {
     "data": {
      "image/png": "[encoded data removed]",
      "text/plain": [
       "<Figure size 800x600 with 1 Axes>"
      ]
     },
     "metadata": {},
     "output_type": "display_data"
    }
   ],
   "source": [
    "## PLot a boxplot for 'HP' columns in dataset\n",
    "plt.figure(figsize=(8, 6))\n",
    "plt.boxplot(df['HP'])\n",
    "plt.title('Boxplot of Horsepower')\n",
    "plt.ylabel('Horsepower')\n",
    "plt.show()"
   ]
  },
  {
   "cell_type": "markdown",
   "metadata": {
    "id": "-YWNqTn7GI-4"
   },
   "source": [
    "### **`Observation:`**<br>\n",
    "Here boxplots show the proper distribution of of 25 percentile and 75 percentile of the feature of HP."
   ]
  },
  {
   "cell_type": "code",
   "execution_count": null,
   "metadata": {},
   "outputs": [],
   "source": []
  },
  {
   "cell_type": "markdown",
   "metadata": {
    "id": "S9tucB8ABw_4"
   },
   "source": [
    "print all the columns which are of int or float datatype in df. \n",
    "\n",
    "Hint: Use loc with condition"
   ]
  },
  {
   "cell_type": "code",
   "execution_count": 31,
   "metadata": {
    "id": "4uEumv0uBw_4",
    "outputId": "c0c5515e-96dc-4e40-ca4b-e83c76ce7fad"
   },
   "outputs": [
    {
     "name": "stdout",
     "output_type": "stream",
     "text": [
      "Numeric columns:\n",
      "Index(['Production_Year', 'HP', 'Cylinders', 'Highway_MPG', 'City_MPG',\n",
      "       'Car_Popularity', 'Price'],\n",
      "      dtype='object')\n"
     ]
    }
   ],
   "source": [
    "# print all the columns which are of int or float datatype in df.\n",
    "numeric_columns = df.select_dtypes(include=['int', 'float'])\n",
    "print(\"Numeric columns:\")\n",
    "print(numeric_columns.columns)\n"
   ]
  },
  {
   "cell_type": "markdown",
   "metadata": {
    "id": "pQOOqmvEBw_5"
   },
   "source": [
    "### `Save the column names of the above output in variable list named 'l'`\n"
   ]
  },
  {
   "cell_type": "code",
   "execution_count": 32,
   "metadata": {
    "id": "PgJz8dtQBw_5"
   },
   "outputs": [
    {
     "name": "stdout",
     "output_type": "stream",
     "text": [
      "Column names saved in variable 'l': ['Production_Year', 'HP', 'Cylinders', 'Highway_MPG', 'City_MPG', 'Car_Popularity', 'Price']\n"
     ]
    }
   ],
   "source": [
    "# save column names of the above output in variable list\n",
    "# l=\n",
    "l = list(numeric_columns.columns)\n",
    "print(\"Column names saved in variable 'l':\", l)"
   ]
  },
  {
   "cell_type": "markdown",
   "metadata": {
    "id": "3iAhdSFPBw_5"
   },
   "source": [
    "## **`Outliers removal techniques - IQR Method`**\n",
    " "
   ]
  },
  {
   "cell_type": "markdown",
   "metadata": {
    "id": "4u67f7AzBw_6"
   },
   "source": [
    "**Here comes cool Fact for you!**\n",
    "\n",
    "IQR is the first quartile subtracted from the third quartile; these quartiles can be clearly seen on a box plot on the data."
   ]
  },
  {
   "cell_type": "markdown",
   "metadata": {
    "id": "eMW1PTL_Bw_6"
   },
   "source": [
    "- Calculate IQR  and give a suitable threshold to remove the outliers and save this new dataframe into df2.\n",
    "\n",
    "Let us help you to decide threshold: Outliers in this case are defined as the observations that are below (Q1 − 1.5x IQR) or above (Q3 + 1.5x IQR)"
   ]
  },
  {
   "cell_type": "code",
   "execution_count": 40,
   "metadata": {
    "id": "G5EHp8JxBw_6"
   },
   "outputs": [],
   "source": [
    "## define Q1 and Q2\n",
    "# Q1 = \n",
    "# Q3 = \n",
    "\n",
    "# # define IQR (interquantile range) \n",
    "# IQR =    \n",
    "\n",
    "# # define df2 after removing outliers"
   ]
  },
  {
   "cell_type": "code",
   "execution_count": 26,
   "metadata": {},
   "outputs": [],
   "source": [
    "# find the shape of df & df2\n",
    "shape_df = df.shape\n",
    "shape_df2 = df2.shape\n",
    "print(\"Shape of df:\", shape_df)\n",
    "print(\"Shape of df2:\", shape_df2)\n"
   ]
  },
  {
   "cell_type": "code",
   "execution_count": 41,
   "metadata": {
    "id": "Ok1cLuSEBxAB",
    "outputId": "40c55ded-4804-4ecb-b6ab-9795033207dd"
   },
   "outputs": [
    {
     "name": "stdout",
     "output_type": "stream",
     "text": [
      "--------------- Brand ----------------\n",
      "Brand\n",
      "Chevrolet        1075\n",
      "Ford              811\n",
      "Toyota            653\n",
      "Volkswagen        564\n",
      "Nissan            541\n",
      "Dodge             528\n",
      "GMC               482\n",
      "Honda             431\n",
      "Cadillac          396\n",
      "Mazda             392\n",
      "Suzuki            342\n",
      "Mercedes-Benz     340\n",
      "Infiniti          328\n",
      "BMW               324\n",
      "Audi              321\n",
      "Volvo             266\n",
      "Hyundai           259\n",
      "Acura             246\n",
      "Subaru            239\n",
      "Kia               224\n",
      "Mitsubishi        205\n",
      "Lexus             202\n",
      "Buick             190\n",
      "Chrysler          187\n",
      "Pontiac           180\n",
      "Lincoln           152\n",
      "Porsche           136\n",
      "Oldsmobile        132\n",
      "Land Rover        128\n",
      "Saab              109\n",
      "Aston Martin       91\n",
      "Bentley            74\n",
      "Plymouth           71\n",
      "Ferrari            69\n",
      "Scion              60\n",
      "FIAT               59\n",
      "Maserati           55\n",
      "Lamborghini        52\n",
      "Rolls-Royce        31\n",
      "Lotus              28\n",
      "HUMMER             17\n",
      "Maybach            16\n",
      "McLaren             5\n",
      "Alfa Romeo          5\n",
      "Genesis             3\n",
      "Bugatti             3\n",
      "Spyker              2\n",
      "Name: count, dtype: int64\n",
      "--------------- Car_Model ----------------\n",
      "Car_Model\n",
      "Silverado 1500    156\n",
      "F-150             126\n",
      "Sierra 1500        90\n",
      "Tundra             78\n",
      "Frontier           76\n",
      "                 ... \n",
      "M4 GTS              1\n",
      "LFA                 1\n",
      "Horizon             1\n",
      "GS F                1\n",
      "Zephyr              1\n",
      "Name: count, Length: 904, dtype: int64\n",
      "--------------- Production_Year ----------------\n",
      "Production_Year\n",
      "2015    2032\n",
      "2016    2027\n",
      "2017    1582\n",
      "2014     533\n",
      "2009     356\n",
      "2012     350\n",
      "2007     334\n",
      "2013     323\n",
      "2008     322\n",
      "2011     279\n",
      "2010     276\n",
      "2003     238\n",
      "2004     235\n",
      "2005     207\n",
      "2002     205\n",
      "2006     194\n",
      "2001     168\n",
      "1997     166\n",
      "1993     159\n",
      "1998     144\n",
      "1994     128\n",
      "1992     127\n",
      "1995     116\n",
      "1996     115\n",
      "2000     115\n",
      "1999     114\n",
      "1991     102\n",
      "1990      77\n",
      "Name: count, dtype: int64\n",
      "--------------- HP ----------------\n",
      "HP\n",
      "200.0    376\n",
      "170.0    261\n",
      "240.0    251\n",
      "285.0    246\n",
      "210.0    243\n",
      "        ... \n",
      "557.0      1\n",
      "451.0      1\n",
      "361.0      1\n",
      "456.0      1\n",
      "151.0      1\n",
      "Name: count, Length: 355, dtype: int64\n",
      "--------------- Cylinders ----------------\n",
      "Cylinders\n",
      "4.0     4352\n",
      "6.0     4267\n",
      "8.0     1897\n",
      "12.0     228\n",
      "5.0      169\n",
      "10.0      65\n",
      "3.0       30\n",
      "0.0       13\n",
      "16.0       3\n",
      "Name: count, dtype: int64\n",
      "--------------- Transmission ----------------\n",
      "Transmission\n",
      "AUTOMATIC           7824\n",
      "MANUAL              2620\n",
      "AUTOMATED_MANUAL     553\n",
      "DIRECT_DRIVE          15\n",
      "UNKNOWN               12\n",
      "Name: count, dtype: int64\n",
      "--------------- Drive_Type ----------------\n",
      "Drive_Type\n",
      "front wheel drive    4297\n",
      "rear wheel drive     3163\n",
      "all wheel drive      2292\n",
      "four wheel drive     1272\n",
      "Name: count, dtype: int64\n",
      "--------------- Vehicle Size ----------------\n",
      "Vehicle Size\n",
      "Compact    4336\n",
      "Midsize    4100\n",
      "Large      2588\n",
      "Name: count, dtype: int64\n",
      "--------------- Vehicle Style ----------------\n",
      "Vehicle Style\n",
      "Sedan                  2808\n",
      "4dr SUV                2406\n",
      "Coupe                  1155\n",
      "Convertible             741\n",
      "4dr Hatchback           639\n",
      "Crew Cab Pickup         636\n",
      "Extended Cab Pickup     569\n",
      "Wagon                   557\n",
      "2dr Hatchback           408\n",
      "Passenger Minivan       383\n",
      "Regular Cab Pickup      340\n",
      "Passenger Van           121\n",
      "2dr SUV                  91\n",
      "Cargo Van                84\n",
      "Cargo Minivan            58\n",
      "Convertible SUV          28\n",
      "Name: count, dtype: int64\n",
      "--------------- Highway_MPG ----------------\n",
      "Highway_MPG\n",
      "24     842\n",
      "23     766\n",
      "26     750\n",
      "22     699\n",
      "25     698\n",
      "28     655\n",
      "27     565\n",
      "30     518\n",
      "31     493\n",
      "21     491\n",
      "19     490\n",
      "20     478\n",
      "29     439\n",
      "18     346\n",
      "17     343\n",
      "33     335\n",
      "32     302\n",
      "34     274\n",
      "35     204\n",
      "16     201\n",
      "36     196\n",
      "37     173\n",
      "38     134\n",
      "15     117\n",
      "40     110\n",
      "39     109\n",
      "41      65\n",
      "42      46\n",
      "14      37\n",
      "43      21\n",
      "46      21\n",
      "44      21\n",
      "48      16\n",
      "45      14\n",
      "13      14\n",
      "50      10\n",
      "47       7\n",
      "109      6\n",
      "12       5\n",
      "53       5\n",
      "82       3\n",
      "111      3\n",
      "354      1\n",
      "106      1\n",
      "Name: count, dtype: int64\n",
      "--------------- City_MPG ----------------\n",
      "City_MPG\n",
      "17     1178\n",
      "16     1025\n",
      "18      967\n",
      "15      966\n",
      "19      813\n",
      "20      748\n",
      "14      606\n",
      "22      585\n",
      "21      571\n",
      "13      537\n",
      "23      434\n",
      "25      403\n",
      "24      379\n",
      "12      284\n",
      "27      252\n",
      "26      209\n",
      "11      189\n",
      "28      164\n",
      "30      127\n",
      "31      119\n",
      "29      100\n",
      "10       77\n",
      "9        33\n",
      "32       21\n",
      "34       20\n",
      "36       20\n",
      "40       19\n",
      "44       18\n",
      "42       17\n",
      "41       17\n",
      "35       15\n",
      "33       14\n",
      "53       13\n",
      "43       13\n",
      "54       10\n",
      "8         9\n",
      "37        8\n",
      "39        6\n",
      "51        6\n",
      "50        6\n",
      "128       6\n",
      "49        4\n",
      "137       3\n",
      "85        3\n",
      "55        3\n",
      "47        2\n",
      "58        2\n",
      "129       1\n",
      "7         1\n",
      "38        1\n",
      "Name: count, dtype: int64\n",
      "--------------- Car_Popularity ----------------\n",
      "Car_Popularity\n",
      "1385    1075\n",
      "5657     811\n",
      "2031     653\n",
      "873      564\n",
      "2009     541\n",
      "1851     528\n",
      "549      482\n",
      "2202     431\n",
      "1624     396\n",
      "586      392\n",
      "481      342\n",
      "617      340\n",
      "190      328\n",
      "3916     324\n",
      "3105     321\n",
      "870      266\n",
      "1439     259\n",
      "204      246\n",
      "640      239\n",
      "1720     224\n",
      "436      205\n",
      "454      202\n",
      "155      190\n",
      "1013     187\n",
      "210      180\n",
      "61       152\n",
      "1715     136\n",
      "26       132\n",
      "258      128\n",
      "376      109\n",
      "259       91\n",
      "520       74\n",
      "535       71\n",
      "2774      69\n",
      "105       60\n",
      "819       59\n",
      "238       55\n",
      "1158      52\n",
      "86        31\n",
      "613       28\n",
      "130       17\n",
      "67        16\n",
      "416        5\n",
      "113        5\n",
      "21         3\n",
      "820        3\n",
      "2          2\n",
      "Name: count, dtype: int64\n",
      "--------------- Price ----------------\n",
      "Price\n",
      "2000     746\n",
      "29995     18\n",
      "25995     17\n",
      "20995     15\n",
      "27995     15\n",
      "        ... \n",
      "21035      1\n",
      "24615      1\n",
      "24240      1\n",
      "21220      1\n",
      "50920      1\n",
      "Name: count, Length: 6014, dtype: int64\n"
     ]
    }
   ],
   "source": [
    "# find unique values and there counts in each column in df using value counts function.\n",
    "\n",
    "# for i in df.columns:\n",
    "#     print (\"--------------- %s ----------------\" % i)\n",
    "#     # code here\n",
    "for column in df.columns:\n",
    "    print(\"---------------\", column, \"----------------\")\n",
    "    print(df[column].value_counts())"
   ]
  },
  {
   "cell_type": "markdown",
   "metadata": {
    "id": "zQ0GaJ_kBxAB"
   },
   "source": [
    "## `Visualising Univariate Distributions`"
   ]
  },
  {
   "cell_type": "markdown",
   "metadata": {
    "id": "H0PQlhWEBxAC"
   },
   "source": [
    "We will use seaborn library to visualize eye catchy univariate plots. \n",
    "\n",
    "Do you know? you have just now already explored one univariate plot. guess which one? Yeah its box plot.\n"
   ]
  },
  {
   "cell_type": "markdown",
   "metadata": {
    "id": "SnzpC8JABxAC"
   },
   "source": [
    "### `Histogram & Density Plots`\n",
    "\n",
    "Histograms and density plots show the frequency of a numeric variable along the y-axis, and the value along the x-axis. The ```sns.distplot()``` function plots a density curve. Notice that this is aesthetically better than vanilla ```matplotlib```."
   ]
  },
  {
   "cell_type": "code",
   "execution_count": 42,
   "metadata": {
    "id": "-uqWiICoBxAC",
    "outputId": "47e45800-1103-40e0-e407-93977635ea53"
   },
   "outputs": [
    {
     "data": {
      "image/png": "[encoded data removed]",
      "text/plain": [
       "<Figure size 800x600 with 1 Axes>"
      ]
     },
     "metadata": {},
     "output_type": "display_data"
    }
   ],
   "source": [
    "#ploting distplot for variable HP\n",
    "plt.figure(figsize=(8, 6))\n",
    "sns.distplot(df['HP'])\n",
    "plt.title('Distribution of Horsepower')\n",
    "plt.xlabel('Horsepower')\n",
    "plt.ylabel('Density')\n",
    "plt.show()\n"
   ]
  },
  {
   "cell_type": "markdown",
   "metadata": {
    "id": "1GSaLnCxiWHc"
   },
   "source": [
    "### **`Observation:`**\n",
    "We plot the Histogram of feature HP with help of distplot in seaborn.<br> \n",
    "In this graph we can see that there is max values near at 200. similary we have also the 2nd highest value near 400 and so on. <br>\n",
    "It represents the overall distribution of continuous data variables.<br>"
   ]
  },
  {
   "cell_type": "markdown",
   "metadata": {
    "id": "-P7Xup3vBxAD"
   },
   "source": [
    "Since seaborn uses matplotlib behind the scenes, the usual matplotlib functions work well with seaborn. For example, you can use subplots to plot multiple univariate distributions.\n",
    "- Hint: use matplotlib subplot function"
   ]
  },
  {
   "cell_type": "code",
   "execution_count": 44,
   "metadata": {
    "id": "CdlvvfvfBxAD",
    "outputId": "23484911-5553-41bd-cdf6-8bd38a526ce7"
   },
   "outputs": [],
   "source": [
    "# plot all the columns present in list l together using subplot of dimention (2,3).\n",
    "\n",
    "\n",
    "# c=0\n",
    "# plt.figure(figsize=(15,10))\n",
    "# for i in l:\n",
    "#     # code here\n",
    "# plt.show()\n",
    "# rows = 2\n",
    "# cols = 3\n",
    "# fig, axes = plt.subplots(rows, cols, figsize=(15, 10))\n",
    "# axes = axes.flatten()\n",
    "# for idx, column in enumerate(l):\n",
    "#     sns.histplot(df[column], kde=True, ax=axes[idx], color='skyblue')\n",
    "#     axes[idx].set_title(column)\n",
    "#     axes[idx].set_xlabel(column)\n",
    "#     axes[idx].set_ylabel('Frequency')\n",
    "\n",
    "# plt.tight_layout()\n",
    "# plt.show()"
   ]
  },
  {
   "cell_type": "markdown",
   "metadata": {
    "id": "ziOcNh-sBxAD"
   },
   "source": [
    "## `Bar Chart Plots`\n"
   ]
  },
  {
   "cell_type": "markdown",
   "metadata": {
    "id": "lF54VPLRBxAE"
   },
   "source": [
    "Plot a histogram depicting the make in X axis and number of cars in y axis. <br>"
   ]
  },
  {
   "cell_type": "code",
   "execution_count": 31,
   "metadata": {
    "id": "d1gpl5LxBxAE",
    "outputId": "726eae7f-c413-456a-e989-960d43a9c89b"
   },
   "outputs": [],
   "source": [
    "# plt.figure(figsize = (12,8))\n",
    "\n",
    "# use nlargest and then .plot to get bar plot like below output\n",
    "# Plot Title, X & Y label\n",
    "\n"
   ]
  },
  {
   "cell_type": "markdown",
   "metadata": {
    "id": "N-8CXMKVkn-I"
   },
   "source": [
    "### **`Observation:`**\n",
    "In this plot we can see that we have plot the bar plot with the cars model and nos. of cars."
   ]
  },
  {
   "cell_type": "markdown",
   "metadata": {
    "id": "Xk2s0-9UBxAE"
   },
   "source": [
    "### `Count Plot`\n",
    "A count plot can be thought of as a histogram across a categorical, instead of quantitative, variable.\n"
   ]
  },
  {
   "cell_type": "markdown",
   "metadata": {
    "id": "OmT9X5aBBxAF"
   },
   "source": [
    " Plot a countplot for a variable Transmission vertically with hue as Drive mode"
   ]
  },
  {
   "cell_type": "code",
   "execution_count": 45,
   "metadata": {
    "id": "UyYYXn36BxAF",
    "outputId": "24b59852-4612-4065-cf6e-29b02c259565"
   },
   "outputs": [
    {
     "ename": "ValueError",
     "evalue": "Could not interpret value `Driven_Wheels` for `x`. An entry with this name does not appear in `data`.",
     "output_type": "error",
     "traceback": [
      "\u001b[1;31m---------------------------------------------------------------------------\u001b[0m",
      "\u001b[1;31mValueError\u001b[0m                                Traceback (most recent call last)",
      "Cell \u001b[1;32mIn[45], line 19\u001b[0m\n\u001b[0;32m     17\u001b[0m \u001b[38;5;66;03m# Plot countplot for 'Driven_Wheels'\u001b[39;00m\n\u001b[0;32m     18\u001b[0m plt\u001b[38;5;241m.\u001b[39msubplot(\u001b[38;5;241m1\u001b[39m, \u001b[38;5;241m2\u001b[39m, \u001b[38;5;241m2\u001b[39m)  \u001b[38;5;66;03m# Subplot for Driven_Wheels\u001b[39;00m\n\u001b[1;32m---> 19\u001b[0m \u001b[43msns\u001b[49m\u001b[38;5;241;43m.\u001b[39;49m\u001b[43mcountplot\u001b[49m\u001b[43m(\u001b[49m\u001b[43mdata\u001b[49m\u001b[38;5;241;43m=\u001b[39;49m\u001b[43mdf\u001b[49m\u001b[43m,\u001b[49m\u001b[43m \u001b[49m\u001b[43mx\u001b[49m\u001b[38;5;241;43m=\u001b[39;49m\u001b[38;5;124;43m'\u001b[39;49m\u001b[38;5;124;43mDriven_Wheels\u001b[39;49m\u001b[38;5;124;43m'\u001b[39;49m\u001b[43m)\u001b[49m\n\u001b[0;32m     20\u001b[0m plt\u001b[38;5;241m.\u001b[39mtitle(\u001b[38;5;124m'\u001b[39m\u001b[38;5;124mCountplot of Driven Wheels\u001b[39m\u001b[38;5;124m'\u001b[39m)\n\u001b[0;32m     21\u001b[0m plt\u001b[38;5;241m.\u001b[39mxlabel(\u001b[38;5;124m'\u001b[39m\u001b[38;5;124mDriven Wheels\u001b[39m\u001b[38;5;124m'\u001b[39m)\n",
      "File \u001b[1;32mc:\\Users\\chara\\AppData\\Local\\Programs\\Python\\Python311\\Lib\\site-packages\\seaborn\\categorical.py:2631\u001b[0m, in \u001b[0;36mcountplot\u001b[1;34m(data, x, y, hue, order, hue_order, orient, color, palette, saturation, fill, hue_norm, stat, width, dodge, gap, log_scale, native_scale, formatter, legend, ax, **kwargs)\u001b[0m\n\u001b[0;32m   2628\u001b[0m \u001b[38;5;28;01melif\u001b[39;00m x \u001b[38;5;129;01mis\u001b[39;00m \u001b[38;5;129;01mnot\u001b[39;00m \u001b[38;5;28;01mNone\u001b[39;00m \u001b[38;5;129;01mand\u001b[39;00m y \u001b[38;5;129;01mis\u001b[39;00m \u001b[38;5;129;01mnot\u001b[39;00m \u001b[38;5;28;01mNone\u001b[39;00m:\n\u001b[0;32m   2629\u001b[0m     \u001b[38;5;28;01mraise\u001b[39;00m \u001b[38;5;167;01mTypeError\u001b[39;00m(\u001b[38;5;124m\"\u001b[39m\u001b[38;5;124mCannot pass values for both `x` and `y`.\u001b[39m\u001b[38;5;124m\"\u001b[39m)\n\u001b[1;32m-> 2631\u001b[0m p \u001b[38;5;241m=\u001b[39m \u001b[43m_CategoricalAggPlotter\u001b[49m\u001b[43m(\u001b[49m\n\u001b[0;32m   2632\u001b[0m \u001b[43m    \u001b[49m\u001b[43mdata\u001b[49m\u001b[38;5;241;43m=\u001b[39;49m\u001b[43mdata\u001b[49m\u001b[43m,\u001b[49m\n\u001b[0;32m   2633\u001b[0m \u001b[43m    \u001b[49m\u001b[43mvariables\u001b[49m\u001b[38;5;241;43m=\u001b[39;49m\u001b[38;5;28;43mdict\u001b[39;49m\u001b[43m(\u001b[49m\u001b[43mx\u001b[49m\u001b[38;5;241;43m=\u001b[39;49m\u001b[43mx\u001b[49m\u001b[43m,\u001b[49m\u001b[43m \u001b[49m\u001b[43my\u001b[49m\u001b[38;5;241;43m=\u001b[39;49m\u001b[43my\u001b[49m\u001b[43m,\u001b[49m\u001b[43m \u001b[49m\u001b[43mhue\u001b[49m\u001b[38;5;241;43m=\u001b[39;49m\u001b[43mhue\u001b[49m\u001b[43m)\u001b[49m\u001b[43m,\u001b[49m\n\u001b[0;32m   2634\u001b[0m \u001b[43m    \u001b[49m\u001b[43morder\u001b[49m\u001b[38;5;241;43m=\u001b[39;49m\u001b[43morder\u001b[49m\u001b[43m,\u001b[49m\n\u001b[0;32m   2635\u001b[0m \u001b[43m    \u001b[49m\u001b[43morient\u001b[49m\u001b[38;5;241;43m=\u001b[39;49m\u001b[43morient\u001b[49m\u001b[43m,\u001b[49m\n\u001b[0;32m   2636\u001b[0m \u001b[43m    \u001b[49m\u001b[43mcolor\u001b[49m\u001b[38;5;241;43m=\u001b[39;49m\u001b[43mcolor\u001b[49m\u001b[43m,\u001b[49m\n\u001b[0;32m   2637\u001b[0m \u001b[43m    \u001b[49m\u001b[43mlegend\u001b[49m\u001b[38;5;241;43m=\u001b[39;49m\u001b[43mlegend\u001b[49m\u001b[43m,\u001b[49m\n\u001b[0;32m   2638\u001b[0m \u001b[43m\u001b[49m\u001b[43m)\u001b[49m\n\u001b[0;32m   2640\u001b[0m \u001b[38;5;28;01mif\u001b[39;00m ax \u001b[38;5;129;01mis\u001b[39;00m \u001b[38;5;28;01mNone\u001b[39;00m:\n\u001b[0;32m   2641\u001b[0m     ax \u001b[38;5;241m=\u001b[39m plt\u001b[38;5;241m.\u001b[39mgca()\n",
      "File \u001b[1;32mc:\\Users\\chara\\AppData\\Local\\Programs\\Python\\Python311\\Lib\\site-packages\\seaborn\\categorical.py:67\u001b[0m, in \u001b[0;36m_CategoricalPlotter.__init__\u001b[1;34m(self, data, variables, order, orient, require_numeric, color, legend)\u001b[0m\n\u001b[0;32m     56\u001b[0m \u001b[38;5;28;01mdef\u001b[39;00m \u001b[38;5;21m__init__\u001b[39m(\n\u001b[0;32m     57\u001b[0m     \u001b[38;5;28mself\u001b[39m,\n\u001b[0;32m     58\u001b[0m     data\u001b[38;5;241m=\u001b[39m\u001b[38;5;28;01mNone\u001b[39;00m,\n\u001b[1;32m   (...)\u001b[0m\n\u001b[0;32m     64\u001b[0m     legend\u001b[38;5;241m=\u001b[39m\u001b[38;5;124m\"\u001b[39m\u001b[38;5;124mauto\u001b[39m\u001b[38;5;124m\"\u001b[39m,\n\u001b[0;32m     65\u001b[0m ):\n\u001b[1;32m---> 67\u001b[0m     \u001b[38;5;28;43msuper\u001b[39;49m\u001b[43m(\u001b[49m\u001b[43m)\u001b[49m\u001b[38;5;241;43m.\u001b[39;49m\u001b[38;5;21;43m__init__\u001b[39;49m\u001b[43m(\u001b[49m\u001b[43mdata\u001b[49m\u001b[38;5;241;43m=\u001b[39;49m\u001b[43mdata\u001b[49m\u001b[43m,\u001b[49m\u001b[43m \u001b[49m\u001b[43mvariables\u001b[49m\u001b[38;5;241;43m=\u001b[39;49m\u001b[43mvariables\u001b[49m\u001b[43m)\u001b[49m\n\u001b[0;32m     69\u001b[0m     \u001b[38;5;66;03m# This method takes care of some bookkeeping that is necessary because the\u001b[39;00m\n\u001b[0;32m     70\u001b[0m     \u001b[38;5;66;03m# original categorical plots (prior to the 2021 refactor) had some rules that\u001b[39;00m\n\u001b[0;32m     71\u001b[0m     \u001b[38;5;66;03m# don't fit exactly into VectorPlotter logic. It may be wise to have a second\u001b[39;00m\n\u001b[1;32m   (...)\u001b[0m\n\u001b[0;32m     76\u001b[0m     \u001b[38;5;66;03m# default VectorPlotter rules. If we do decide to make orient part of the\u001b[39;00m\n\u001b[0;32m     77\u001b[0m     \u001b[38;5;66;03m# _base variable assignment, we'll want to figure out how to express that.\u001b[39;00m\n\u001b[0;32m     78\u001b[0m     \u001b[38;5;28;01mif\u001b[39;00m \u001b[38;5;28mself\u001b[39m\u001b[38;5;241m.\u001b[39minput_format \u001b[38;5;241m==\u001b[39m \u001b[38;5;124m\"\u001b[39m\u001b[38;5;124mwide\u001b[39m\u001b[38;5;124m\"\u001b[39m \u001b[38;5;129;01mand\u001b[39;00m orient \u001b[38;5;129;01min\u001b[39;00m [\u001b[38;5;124m\"\u001b[39m\u001b[38;5;124mh\u001b[39m\u001b[38;5;124m\"\u001b[39m, \u001b[38;5;124m\"\u001b[39m\u001b[38;5;124my\u001b[39m\u001b[38;5;124m\"\u001b[39m]:\n",
      "File \u001b[1;32mc:\\Users\\chara\\AppData\\Local\\Programs\\Python\\Python311\\Lib\\site-packages\\seaborn\\_base.py:634\u001b[0m, in \u001b[0;36mVectorPlotter.__init__\u001b[1;34m(self, data, variables)\u001b[0m\n\u001b[0;32m    629\u001b[0m \u001b[38;5;66;03m# var_ordered is relevant only for categorical axis variables, and may\u001b[39;00m\n\u001b[0;32m    630\u001b[0m \u001b[38;5;66;03m# be better handled by an internal axis information object that tracks\u001b[39;00m\n\u001b[0;32m    631\u001b[0m \u001b[38;5;66;03m# such information and is set up by the scale_* methods. The analogous\u001b[39;00m\n\u001b[0;32m    632\u001b[0m \u001b[38;5;66;03m# information for numeric axes would be information about log scales.\u001b[39;00m\n\u001b[0;32m    633\u001b[0m \u001b[38;5;28mself\u001b[39m\u001b[38;5;241m.\u001b[39m_var_ordered \u001b[38;5;241m=\u001b[39m {\u001b[38;5;124m\"\u001b[39m\u001b[38;5;124mx\u001b[39m\u001b[38;5;124m\"\u001b[39m: \u001b[38;5;28;01mFalse\u001b[39;00m, \u001b[38;5;124m\"\u001b[39m\u001b[38;5;124my\u001b[39m\u001b[38;5;124m\"\u001b[39m: \u001b[38;5;28;01mFalse\u001b[39;00m}  \u001b[38;5;66;03m# alt., used DefaultDict\u001b[39;00m\n\u001b[1;32m--> 634\u001b[0m \u001b[38;5;28;43mself\u001b[39;49m\u001b[38;5;241;43m.\u001b[39;49m\u001b[43massign_variables\u001b[49m\u001b[43m(\u001b[49m\u001b[43mdata\u001b[49m\u001b[43m,\u001b[49m\u001b[43m \u001b[49m\u001b[43mvariables\u001b[49m\u001b[43m)\u001b[49m\n\u001b[0;32m    636\u001b[0m \u001b[38;5;66;03m# TODO Lots of tests assume that these are called to initialize the\u001b[39;00m\n\u001b[0;32m    637\u001b[0m \u001b[38;5;66;03m# mappings to default values on class initialization. I'd prefer to\u001b[39;00m\n\u001b[0;32m    638\u001b[0m \u001b[38;5;66;03m# move away from that and only have a mapping when explicitly called.\u001b[39;00m\n\u001b[0;32m    639\u001b[0m \u001b[38;5;28;01mfor\u001b[39;00m var \u001b[38;5;129;01min\u001b[39;00m [\u001b[38;5;124m\"\u001b[39m\u001b[38;5;124mhue\u001b[39m\u001b[38;5;124m\"\u001b[39m, \u001b[38;5;124m\"\u001b[39m\u001b[38;5;124msize\u001b[39m\u001b[38;5;124m\"\u001b[39m, \u001b[38;5;124m\"\u001b[39m\u001b[38;5;124mstyle\u001b[39m\u001b[38;5;124m\"\u001b[39m]:\n",
      "File \u001b[1;32mc:\\Users\\chara\\AppData\\Local\\Programs\\Python\\Python311\\Lib\\site-packages\\seaborn\\_base.py:679\u001b[0m, in \u001b[0;36mVectorPlotter.assign_variables\u001b[1;34m(self, data, variables)\u001b[0m\n\u001b[0;32m    674\u001b[0m \u001b[38;5;28;01melse\u001b[39;00m:\n\u001b[0;32m    675\u001b[0m     \u001b[38;5;66;03m# When dealing with long-form input, use the newer PlotData\u001b[39;00m\n\u001b[0;32m    676\u001b[0m     \u001b[38;5;66;03m# object (internal but introduced for the objects interface)\u001b[39;00m\n\u001b[0;32m    677\u001b[0m     \u001b[38;5;66;03m# to centralize / standardize data consumption logic.\u001b[39;00m\n\u001b[0;32m    678\u001b[0m     \u001b[38;5;28mself\u001b[39m\u001b[38;5;241m.\u001b[39minput_format \u001b[38;5;241m=\u001b[39m \u001b[38;5;124m\"\u001b[39m\u001b[38;5;124mlong\u001b[39m\u001b[38;5;124m\"\u001b[39m\n\u001b[1;32m--> 679\u001b[0m     plot_data \u001b[38;5;241m=\u001b[39m \u001b[43mPlotData\u001b[49m\u001b[43m(\u001b[49m\u001b[43mdata\u001b[49m\u001b[43m,\u001b[49m\u001b[43m \u001b[49m\u001b[43mvariables\u001b[49m\u001b[43m)\u001b[49m\n\u001b[0;32m    680\u001b[0m     frame \u001b[38;5;241m=\u001b[39m plot_data\u001b[38;5;241m.\u001b[39mframe\n\u001b[0;32m    681\u001b[0m     names \u001b[38;5;241m=\u001b[39m plot_data\u001b[38;5;241m.\u001b[39mnames\n",
      "File \u001b[1;32mc:\\Users\\chara\\AppData\\Local\\Programs\\Python\\Python311\\Lib\\site-packages\\seaborn\\_core\\data.py:58\u001b[0m, in \u001b[0;36mPlotData.__init__\u001b[1;34m(self, data, variables)\u001b[0m\n\u001b[0;32m     51\u001b[0m \u001b[38;5;28;01mdef\u001b[39;00m \u001b[38;5;21m__init__\u001b[39m(\n\u001b[0;32m     52\u001b[0m     \u001b[38;5;28mself\u001b[39m,\n\u001b[0;32m     53\u001b[0m     data: DataSource,\n\u001b[0;32m     54\u001b[0m     variables: \u001b[38;5;28mdict\u001b[39m[\u001b[38;5;28mstr\u001b[39m, VariableSpec],\n\u001b[0;32m     55\u001b[0m ):\n\u001b[0;32m     57\u001b[0m     data \u001b[38;5;241m=\u001b[39m handle_data_source(data)\n\u001b[1;32m---> 58\u001b[0m     frame, names, ids \u001b[38;5;241m=\u001b[39m \u001b[38;5;28;43mself\u001b[39;49m\u001b[38;5;241;43m.\u001b[39;49m\u001b[43m_assign_variables\u001b[49m\u001b[43m(\u001b[49m\u001b[43mdata\u001b[49m\u001b[43m,\u001b[49m\u001b[43m \u001b[49m\u001b[43mvariables\u001b[49m\u001b[43m)\u001b[49m\n\u001b[0;32m     60\u001b[0m     \u001b[38;5;28mself\u001b[39m\u001b[38;5;241m.\u001b[39mframe \u001b[38;5;241m=\u001b[39m frame\n\u001b[0;32m     61\u001b[0m     \u001b[38;5;28mself\u001b[39m\u001b[38;5;241m.\u001b[39mnames \u001b[38;5;241m=\u001b[39m names\n",
      "File \u001b[1;32mc:\\Users\\chara\\AppData\\Local\\Programs\\Python\\Python311\\Lib\\site-packages\\seaborn\\_core\\data.py:232\u001b[0m, in \u001b[0;36mPlotData._assign_variables\u001b[1;34m(self, data, variables)\u001b[0m\n\u001b[0;32m    230\u001b[0m     \u001b[38;5;28;01melse\u001b[39;00m:\n\u001b[0;32m    231\u001b[0m         err \u001b[38;5;241m+\u001b[39m\u001b[38;5;241m=\u001b[39m \u001b[38;5;124m\"\u001b[39m\u001b[38;5;124mAn entry with this name does not appear in `data`.\u001b[39m\u001b[38;5;124m\"\u001b[39m\n\u001b[1;32m--> 232\u001b[0m     \u001b[38;5;28;01mraise\u001b[39;00m \u001b[38;5;167;01mValueError\u001b[39;00m(err)\n\u001b[0;32m    234\u001b[0m \u001b[38;5;28;01melse\u001b[39;00m:\n\u001b[0;32m    235\u001b[0m \n\u001b[0;32m    236\u001b[0m     \u001b[38;5;66;03m# Otherwise, assume the value somehow represents data\u001b[39;00m\n\u001b[0;32m    237\u001b[0m \n\u001b[0;32m    238\u001b[0m     \u001b[38;5;66;03m# Ignore empty data structures\u001b[39;00m\n\u001b[0;32m    239\u001b[0m     \u001b[38;5;28;01mif\u001b[39;00m \u001b[38;5;28misinstance\u001b[39m(val, Sized) \u001b[38;5;129;01mand\u001b[39;00m \u001b[38;5;28mlen\u001b[39m(val) \u001b[38;5;241m==\u001b[39m \u001b[38;5;241m0\u001b[39m:\n",
      "\u001b[1;31mValueError\u001b[0m: Could not interpret value `Driven_Wheels` for `x`. An entry with this name does not appear in `data`."
     ]
    },
    {
     "data": {
      "image/png": "[encoded data removed]",
      "text/plain": [
       "<Figure size 1500x500 with 2 Axes>"
      ]
     },
     "metadata": {},
     "output_type": "display_data"
    }
   ],
   "source": [
    "# plt.figure(figsize=(15,5))\n",
    "\n",
    "# plot countplot on transmission and drive mode\n",
    "# import seaborn as sns\n",
    "# import matplotlib.pyplot as plt\n",
    "\n",
    "# # Set the figure size\n",
    "# plt.figure(figsize=(15, 5))\n",
    "\n",
    "# # Plot countplot for 'Transmission'\n",
    "# plt.subplot(1, 2, 1)  # Subplot for Transmission\n",
    "# sns.countplot(data=df, x='Transmission')\n",
    "# plt.title('Countplot of Transmission')\n",
    "# plt.xlabel('Transmission')\n",
    "# plt.ylabel('Count')\n",
    "\n",
    "# # Plot countplot for 'Driven_Wheels'\n",
    "# plt.subplot(1, 2, 2)  # Subplot for Driven_Wheels\n",
    "# sns.countplot(data=df, x='Driven_Wheels')\n",
    "# plt.title('Countplot of Driven Wheels')\n",
    "# plt.xlabel('Driven Wheels')\n",
    "# plt.ylabel('Count')\n",
    "\n",
    "# plt.show()\n",
    "\n",
    "\n",
    "\n"
   ]
  },
  {
   "cell_type": "markdown",
   "metadata": {
    "id": "9I0XvhdTla4h"
   },
   "source": [
    "### **`Observation:`**\n",
    "In this count plot, We have plot the feature of Transmission with help of hue.<br>\n",
    "We can see that the the nos of count and the transmission type and automated manual is plotted. Drive mode as been given with help of hue.<br>\n"
   ]
  },
  {
   "cell_type": "markdown",
   "metadata": {
    "id": "zDHMfUpNBxAF"
   },
   "source": [
    "# `Visualising Bivariate Distributions`\n",
    "\n",
    "\n",
    "Bivariate distributions are simply two univariate distributions plotted on x and y axes respectively. They help you observe the relationship between the two variables.\n",
    "\n",
    "\n"
   ]
  },
  {
   "cell_type": "markdown",
   "metadata": {
    "id": "DQxcdTZsBxAG"
   },
   "source": [
    "## `Scatter Plots`\n",
    "Scatterplots are used to find the correlation between two continuos variables.\n",
    "\n",
    "Using scatterplot find the correlation between 'HP' and 'Price' column of the data. \n",
    "\n"
   ]
  },
  {
   "cell_type": "code",
   "execution_count": 46,
   "metadata": {
    "id": "L5zvuQD8BxAG",
    "outputId": "6cc2ef16-7039-4eaa-df3f-7bdd6b4e5c80"
   },
   "outputs": [
    {
     "data": {
      "image/png": "[encoded data removed]",
      "text/plain": [
       "<Figure size 1000x600 with 1 Axes>"
      ]
     },
     "metadata": {},
     "output_type": "display_data"
    }
   ],
   "source": [
    "## Your code here - \n",
    "# fig, ax = plt.subplots(figsize=(10,6))\n",
    "\n",
    "# plot scatterplot on hp and price\n",
    "fig, ax = plt.subplots(figsize=(10, 6))\n",
    "\n",
    "# Plot scatterplot of 'HP' vs 'Price'\n",
    "sns.scatterplot(data=df, x='HP', y='Price', ax=ax)\n",
    "ax.set_title('Scatter Plot of Horsepower vs Price')\n",
    "ax.set_xlabel('Horsepower')\n",
    "ax.set_ylabel('Price')\n",
    "\n",
    "plt.show()\n",
    "\n"
   ]
  },
  {
   "cell_type": "markdown",
   "metadata": {
    "id": "kPLqA4B6o92w"
   },
   "source": [
    "### **`Observation:`**<br>\n",
    "It is a type of plot or mathematical diagram using Cartesian coordinates to display values for typically two variables for a set of data.<br>\n",
    "We have plot the scatter plot with x axis as HP and y axis as Price.<br>\n",
    "The data points between the features should be same either wise it give errors.<br>\n"
   ]
  },
  {
   "cell_type": "markdown",
   "metadata": {
    "id": "HEUOARh5BxAN"
   },
   "source": [
    "## `Plotting Aggregated Values across Categories`\n",
    "\n",
    "\n",
    "### `Bar Plots - Mean, Median and Count Plots`\n",
    "\n",
    "\n",
    "\n",
    "Bar plots are used to **display aggregated values** of a variable, rather than entire distributions. This is especially useful when you have a lot of data which is difficult to visualise in a single figure. \n",
    "\n",
    "For example, say you want to visualise and *compare the Price across Cylinders*. The ```sns.barplot()``` function can be used to do that.\n"
   ]
  },
  {
   "cell_type": "code",
   "execution_count": 48,
   "metadata": {
    "id": "dTSOpY5jBxAN",
    "outputId": "13ca613f-edab-42d8-819d-84cc5b566ee2"
   },
   "outputs": [
    {
     "data": {
      "image/png": "[encoded data removed]",
      "text/plain": [
       "<Figure size 1000x600 with 1 Axes>"
      ]
     },
     "metadata": {},
     "output_type": "display_data"
    }
   ],
   "source": [
    "# bar plot with default statistic=mean between Cylinder and Price\n",
    "plt.figure(figsize=(10, 6))\n",
    "sns.barplot(data=df, x='Cylinders', y='Price')\n",
    "plt.title('Bar Plot of Cylinder vs Price')\n",
    "plt.xlabel('Cylinders')\n",
    "plt.ylabel('Price (Mean)')\n",
    "\n",
    "plt.show()\n",
    "\n",
    "\n",
    "\n"
   ]
  },
  {
   "cell_type": "markdown",
   "metadata": {
    "id": "rFd9QisOBxAO"
   },
   "source": [
    "### **`Observation:`**<br>\n",
    "By default, seaborn plots the mean value across categories, though you can plot the count, median, sum etc.<br>\n",
    "Also, barplot computes and shows the confidence interval of the mean as well.\n",
    "\n"
   ]
  },
  {
   "cell_type": "markdown",
   "metadata": {
    "id": "od8Fuqm_BxAO"
   },
   "source": [
    "## `When you want to visualise having a large number of categories, it is helpful to plot the categories across the y-axis.`\n",
    "\n",
    "### `Let's now drill down into Transmission sub categories.`"
   ]
  },
  {
   "cell_type": "code",
   "execution_count": 49,
   "metadata": {
    "id": "lJnPU4KtBxAP",
    "outputId": "2dfa446f-874f-435f-dba0-a17f30f34718"
   },
   "outputs": [
    {
     "data": {
      "image/png": "[encoded data removed]",
      "text/plain": [
       "<Figure size 1000x600 with 1 Axes>"
      ]
     },
     "metadata": {},
     "output_type": "display_data"
    }
   ],
   "source": [
    "# Plotting categorical variable Transmission across the y-axis\n",
    "plt.figure(figsize=(10, 6))\n",
    "sns.barplot(data=df, x='Price', y='Transmission')\n",
    "plt.title('Bar Plot of Transmission vs Price')\n",
    "plt.xlabel('Price')\n",
    "plt.ylabel('Transmission')\n",
    "\n",
    "plt.show()\n",
    "\n"
   ]
  },
  {
   "cell_type": "markdown",
   "metadata": {
    "id": "Q5Y7xg3ZBxAQ"
   },
   "source": [
    "These plots looks beutiful isn't it? In Data Analyst life such charts are there unavoidable friend.:)"
   ]
  },
  {
   "cell_type": "markdown",
   "metadata": {
    "id": "QX2szH0MBxAQ"
   },
   "source": [
    "# `Multivariate Plots`\n",
    "\n"
   ]
  },
  {
   "cell_type": "markdown",
   "metadata": {
    "id": "_wiepyZEBxAT"
   },
   "source": [
    "## `Heatmaps`\n",
    "\n",
    "\n",
    "A heat map is a two-dimensional representation of information with the help of colors. Heat maps can help the user visualize simple or complex information"
   ]
  },
  {
   "cell_type": "markdown",
   "metadata": {
    "id": "VslkQJNWBxAU"
   },
   "source": [
    "Using heatmaps plot the correlation between the features present in the dataset."
   ]
  },
  {
   "cell_type": "code",
   "execution_count": 53,
   "metadata": {
    "id": "DWpcsVJCBxAU",
    "outputId": "dae92aaa-5a7f-4acf-8082-03555340ee16"
   },
   "outputs": [],
   "source": [
    "#find the correlation of features of the data \n",
    "# corr = \n",
    "\n",
    "# print c\n"
   ]
  },
  {
   "cell_type": "code",
   "execution_count": 37,
   "metadata": {
    "id": "rDqYeuI1BxAW",
    "outputId": "e20f0d9a-e76f-4f59-8ebb-11047156049d"
   },
   "outputs": [],
   "source": [
    "# Using the correlated df, plot the heatmap \n",
    "# set cmap = 'BrBG', annot = True - to get the same graph as shown below \n",
    "# set size of graph = (12,8)\n",
    "\n",
    "\n"
   ]
  },
  {
   "cell_type": "markdown",
   "metadata": {
    "id": "-uMl7P-DBxAX"
   },
   "source": [
    "### **`Observation:`**<br>\n",
    "A heatmap contains values representing various shades of the same colour for each value to be plotted. Usually the darker shades of the chart represent higher values than the lighter shade. For a very different value a completely different colour can also be used.\n",
    "\n",
    "\n",
    "The above heatmap plot shows correlation between various variables in the colored scale of -1 to 1. \n"
   ]
  },
  {
   "cell_type": "code",
   "execution_count": null,
   "metadata": {},
   "outputs": [],
   "source": []
  }
 ],
 "metadata": {
  "colab": {
   "collapsed_sections": [],
   "provenance": []
  },
  "kernelspec": {
   "display_name": "Python 3",
   "language": "python",
   "name": "python3"
  },
  "language_info": {
   "codemirror_mode": {
    "name": "ipython",
    "version": 3
   },
   "file_extension": ".py",
   "mimetype": "text/x-python",
   "name": "python",
   "nbconvert_exporter": "python",
   "pygments_lexer": "ipython3",
   "version": "3.11.5"
  }
 },
 "nbformat": 4,
 "nbformat_minor": 1
}
